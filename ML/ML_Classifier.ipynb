{
 "cells": [
  {
   "cell_type": "code",
   "execution_count": 3,
   "id": "cd61cdd4-86e1-4ba1-9932-09306388261e",
   "metadata": {},
   "outputs": [],
   "source": [
    "import pandas as pd\n",
    "import seaborn as sns\n",
    "from sklearn.datasets import load_iris\n",
    "from sklearn.tree import DecisionTreeClassifier\n",
    "from sklearn.model_selection import train_test_split"
   ]
  },
  {
   "cell_type": "code",
   "execution_count": 2,
   "id": "eb2b4fc4-6474-42ce-8826-b7bdaa501dd1",
   "metadata": {},
   "outputs": [
    {
     "name": "stdout",
     "output_type": "stream",
     "text": [
      "Requirement already satisfied: seaborn in d:\\anaconda\\lib\\site-packages (0.11.1)\n",
      "Requirement already satisfied: matplotlib>=2.2 in d:\\anaconda\\lib\\site-packages (from seaborn) (3.3.4)\n",
      "Requirement already satisfied: scipy>=1.0 in d:\\anaconda\\lib\\site-packages (from seaborn) (1.6.2)\n",
      "Requirement already satisfied: numpy>=1.15 in d:\\anaconda\\lib\\site-packages (from seaborn) (1.20.1)\n",
      "Requirement already satisfied: pandas>=0.23 in d:\\anaconda\\lib\\site-packages (from seaborn) (1.2.4)\n",
      "Requirement already satisfied: python-dateutil>=2.1 in d:\\anaconda\\lib\\site-packages (from matplotlib>=2.2->seaborn) (2.8.1)\n",
      "Requirement already satisfied: cycler>=0.10 in d:\\anaconda\\lib\\site-packages (from matplotlib>=2.2->seaborn) (0.10.0)\n",
      "Requirement already satisfied: kiwisolver>=1.0.1 in d:\\anaconda\\lib\\site-packages (from matplotlib>=2.2->seaborn) (1.3.1)\n",
      "Requirement already satisfied: pillow>=6.2.0 in d:\\anaconda\\lib\\site-packages (from matplotlib>=2.2->seaborn) (8.2.0)\n",
      "Requirement already satisfied: pyparsing!=2.0.4,!=2.1.2,!=2.1.6,>=2.0.3 in d:\\anaconda\\lib\\site-packages (from matplotlib>=2.2->seaborn) (2.4.7)\n",
      "Requirement already satisfied: six in d:\\anaconda\\lib\\site-packages (from cycler>=0.10->matplotlib>=2.2->seaborn) (1.15.0)\n",
      "Requirement already satisfied: pytz>=2017.3 in d:\\anaconda\\lib\\site-packages (from pandas>=0.23->seaborn) (2021.1)\n"
     ]
    }
   ],
   "source": [
    "!pip install seaborn"
   ]
  },
  {
   "cell_type": "code",
   "execution_count": null,
   "id": "6ac56304-3051-4b4a-9b8f-7da229aa5723",
   "metadata": {},
   "outputs": [],
   "source": []
  },
  {
   "cell_type": "code",
   "execution_count": 5,
   "id": "5914b25b-dd78-44ef-845d-04aaa119854c",
   "metadata": {},
   "outputs": [
    {
     "data": {
      "text/html": [
       "<div>\n",
       "<style scoped>\n",
       "    .dataframe tbody tr th:only-of-type {\n",
       "        vertical-align: middle;\n",
       "    }\n",
       "\n",
       "    .dataframe tbody tr th {\n",
       "        vertical-align: top;\n",
       "    }\n",
       "\n",
       "    .dataframe thead th {\n",
       "        text-align: right;\n",
       "    }\n",
       "</style>\n",
       "<table border=\"1\" class=\"dataframe\">\n",
       "  <thead>\n",
       "    <tr style=\"text-align: right;\">\n",
       "      <th></th>\n",
       "      <th>sepal length (cm)</th>\n",
       "      <th>sepal width (cm)</th>\n",
       "      <th>petal length (cm)</th>\n",
       "      <th>petal width (cm)</th>\n",
       "      <th>label</th>\n",
       "    </tr>\n",
       "  </thead>\n",
       "  <tbody>\n",
       "    <tr>\n",
       "      <th>0</th>\n",
       "      <td>5.1</td>\n",
       "      <td>3.5</td>\n",
       "      <td>1.4</td>\n",
       "      <td>0.2</td>\n",
       "      <td>0</td>\n",
       "    </tr>\n",
       "    <tr>\n",
       "      <th>1</th>\n",
       "      <td>4.9</td>\n",
       "      <td>3.0</td>\n",
       "      <td>1.4</td>\n",
       "      <td>0.2</td>\n",
       "      <td>0</td>\n",
       "    </tr>\n",
       "    <tr>\n",
       "      <th>2</th>\n",
       "      <td>4.7</td>\n",
       "      <td>3.2</td>\n",
       "      <td>1.3</td>\n",
       "      <td>0.2</td>\n",
       "      <td>0</td>\n",
       "    </tr>\n",
       "    <tr>\n",
       "      <th>3</th>\n",
       "      <td>4.6</td>\n",
       "      <td>3.1</td>\n",
       "      <td>1.5</td>\n",
       "      <td>0.2</td>\n",
       "      <td>0</td>\n",
       "    </tr>\n",
       "    <tr>\n",
       "      <th>4</th>\n",
       "      <td>5.0</td>\n",
       "      <td>3.6</td>\n",
       "      <td>1.4</td>\n",
       "      <td>0.2</td>\n",
       "      <td>0</td>\n",
       "    </tr>\n",
       "  </tbody>\n",
       "</table>\n",
       "</div>"
      ],
      "text/plain": [
       "   sepal length (cm)  sepal width (cm)  petal length (cm)  petal width (cm)  \\\n",
       "0                5.1               3.5                1.4               0.2   \n",
       "1                4.9               3.0                1.4               0.2   \n",
       "2                4.7               3.2                1.3               0.2   \n",
       "3                4.6               3.1                1.5               0.2   \n",
       "4                5.0               3.6                1.4               0.2   \n",
       "\n",
       "   label  \n",
       "0      0  \n",
       "1      0  \n",
       "2      0  \n",
       "3      0  \n",
       "4      0  "
      ]
     },
     "execution_count": 5,
     "metadata": {},
     "output_type": "execute_result"
    }
   ],
   "source": [
    "iris = load_iris()\n",
    "iris_df = pd.DataFrame(data = iris.data, columns = iris.feature_names)\n",
    "iris_df['label'] = iris.target\n",
    "iris_df.head()"
   ]
  },
  {
   "cell_type": "code",
   "execution_count": 8,
   "id": "92234508-33d7-407d-970a-4fa946dc9d0b",
   "metadata": {},
   "outputs": [
    {
     "data": {
      "text/html": [
       "<div>\n",
       "<style scoped>\n",
       "    .dataframe tbody tr th:only-of-type {\n",
       "        vertical-align: middle;\n",
       "    }\n",
       "\n",
       "    .dataframe tbody tr th {\n",
       "        vertical-align: top;\n",
       "    }\n",
       "\n",
       "    .dataframe thead th {\n",
       "        text-align: right;\n",
       "    }\n",
       "</style>\n",
       "<table border=\"1\" class=\"dataframe\">\n",
       "  <thead>\n",
       "    <tr style=\"text-align: right;\">\n",
       "      <th></th>\n",
       "      <th>sepal length (cm)</th>\n",
       "      <th>sepal width (cm)</th>\n",
       "      <th>petal length (cm)</th>\n",
       "      <th>petal width (cm)</th>\n",
       "    </tr>\n",
       "  </thead>\n",
       "  <tbody>\n",
       "    <tr>\n",
       "      <th>0</th>\n",
       "      <td>5.1</td>\n",
       "      <td>3.5</td>\n",
       "      <td>1.4</td>\n",
       "      <td>0.2</td>\n",
       "    </tr>\n",
       "    <tr>\n",
       "      <th>1</th>\n",
       "      <td>4.9</td>\n",
       "      <td>3.0</td>\n",
       "      <td>1.4</td>\n",
       "      <td>0.2</td>\n",
       "    </tr>\n",
       "    <tr>\n",
       "      <th>2</th>\n",
       "      <td>4.7</td>\n",
       "      <td>3.2</td>\n",
       "      <td>1.3</td>\n",
       "      <td>0.2</td>\n",
       "    </tr>\n",
       "    <tr>\n",
       "      <th>3</th>\n",
       "      <td>4.6</td>\n",
       "      <td>3.1</td>\n",
       "      <td>1.5</td>\n",
       "      <td>0.2</td>\n",
       "    </tr>\n",
       "    <tr>\n",
       "      <th>4</th>\n",
       "      <td>5.0</td>\n",
       "      <td>3.6</td>\n",
       "      <td>1.4</td>\n",
       "      <td>0.2</td>\n",
       "    </tr>\n",
       "    <tr>\n",
       "      <th>...</th>\n",
       "      <td>...</td>\n",
       "      <td>...</td>\n",
       "      <td>...</td>\n",
       "      <td>...</td>\n",
       "    </tr>\n",
       "    <tr>\n",
       "      <th>145</th>\n",
       "      <td>6.7</td>\n",
       "      <td>3.0</td>\n",
       "      <td>5.2</td>\n",
       "      <td>2.3</td>\n",
       "    </tr>\n",
       "    <tr>\n",
       "      <th>146</th>\n",
       "      <td>6.3</td>\n",
       "      <td>2.5</td>\n",
       "      <td>5.0</td>\n",
       "      <td>1.9</td>\n",
       "    </tr>\n",
       "    <tr>\n",
       "      <th>147</th>\n",
       "      <td>6.5</td>\n",
       "      <td>3.0</td>\n",
       "      <td>5.2</td>\n",
       "      <td>2.0</td>\n",
       "    </tr>\n",
       "    <tr>\n",
       "      <th>148</th>\n",
       "      <td>6.2</td>\n",
       "      <td>3.4</td>\n",
       "      <td>5.4</td>\n",
       "      <td>2.3</td>\n",
       "    </tr>\n",
       "    <tr>\n",
       "      <th>149</th>\n",
       "      <td>5.9</td>\n",
       "      <td>3.0</td>\n",
       "      <td>5.1</td>\n",
       "      <td>1.8</td>\n",
       "    </tr>\n",
       "  </tbody>\n",
       "</table>\n",
       "<p>150 rows × 4 columns</p>\n",
       "</div>"
      ],
      "text/plain": [
       "     sepal length (cm)  sepal width (cm)  petal length (cm)  petal width (cm)\n",
       "0                  5.1               3.5                1.4               0.2\n",
       "1                  4.9               3.0                1.4               0.2\n",
       "2                  4.7               3.2                1.3               0.2\n",
       "3                  4.6               3.1                1.5               0.2\n",
       "4                  5.0               3.6                1.4               0.2\n",
       "..                 ...               ...                ...               ...\n",
       "145                6.7               3.0                5.2               2.3\n",
       "146                6.3               2.5                5.0               1.9\n",
       "147                6.5               3.0                5.2               2.0\n",
       "148                6.2               3.4                5.4               2.3\n",
       "149                5.9               3.0                5.1               1.8\n",
       "\n",
       "[150 rows x 4 columns]"
      ]
     },
     "execution_count": 8,
     "metadata": {},
     "output_type": "execute_result"
    }
   ],
   "source": [
    "x = iris_df.iloc[:, :4]\n",
    "x"
   ]
  },
  {
   "cell_type": "code",
   "execution_count": 10,
   "id": "1005a551-b118-428a-8247-7a850a149df9",
   "metadata": {},
   "outputs": [
    {
     "data": {
      "text/plain": [
       "0      0\n",
       "1      0\n",
       "2      0\n",
       "3      0\n",
       "4      0\n",
       "      ..\n",
       "145    2\n",
       "146    2\n",
       "147    2\n",
       "148    2\n",
       "149    2\n",
       "Name: label, Length: 150, dtype: int32"
      ]
     },
     "execution_count": 10,
     "metadata": {},
     "output_type": "execute_result"
    }
   ],
   "source": [
    "y = iris_df['label']\n",
    "y"
   ]
  },
  {
   "cell_type": "code",
   "execution_count": 11,
   "id": "ff1a5529-a18d-469f-a187-363498168e30",
   "metadata": {},
   "outputs": [],
   "source": [
    "# train & test set split\n",
    "x_train, x_test, y_train, y_test = train_test_split(x, y , random_state = 42, stratify = y)"
   ]
  },
  {
   "cell_type": "code",
   "execution_count": null,
   "id": "5a7ac01f-30fb-4a7c-944b-0a21c41f9000",
   "metadata": {},
   "outputs": [],
   "source": []
  },
  {
   "cell_type": "code",
   "execution_count": null,
   "id": "58b13875-6250-4e40-8062-619580aef70f",
   "metadata": {},
   "outputs": [],
   "source": []
  },
  {
   "cell_type": "code",
   "execution_count": 18,
   "id": "07235ce5-57b0-47c1-9a88-ceef781214f8",
   "metadata": {},
   "outputs": [],
   "source": [
    "##### DecisionTreeClassifier\n",
    "tree_model = DecisionTreeClassifier(random_state = 42)"
   ]
  },
  {
   "cell_type": "markdown",
   "id": "540cc73e-4ac8-433f-9843-aadf52dd94e3",
   "metadata": {},
   "source": [
    "tree_model.fit(x_train, y_train)"
   ]
  },
  {
   "cell_type": "code",
   "execution_count": 19,
   "id": "34396311-f5d3-4a85-8d7e-bca0212b1951",
   "metadata": {},
   "outputs": [
    {
     "data": {
      "text/plain": [
       "DecisionTreeClassifier(random_state=42)"
      ]
     },
     "execution_count": 19,
     "metadata": {},
     "output_type": "execute_result"
    }
   ],
   "source": [
    "tree_model.fit(x_train, y_train)"
   ]
  },
  {
   "cell_type": "code",
   "execution_count": 20,
   "id": "eab28684-4595-4140-a106-537ec1d6d22a",
   "metadata": {},
   "outputs": [
    {
     "data": {
      "text/plain": [
       "0.8947368421052632"
      ]
     },
     "execution_count": 20,
     "metadata": {},
     "output_type": "execute_result"
    }
   ],
   "source": [
    "score = tree_model.score(x_test, y_test)\n",
    "score"
   ]
  },
  {
   "cell_type": "code",
   "execution_count": null,
   "id": "6c7e5189-8588-4a50-8dbf-69fabb49bad3",
   "metadata": {},
   "outputs": [],
   "source": []
  },
  {
   "cell_type": "code",
   "execution_count": 21,
   "id": "1a8ee4c6-749e-4681-81cb-766471a75a07",
   "metadata": {},
   "outputs": [],
   "source": [
    "import numpy as np"
   ]
  },
  {
   "cell_type": "code",
   "execution_count": 22,
   "id": "2d7a0c07-0780-4dfb-bea0-0c42f9b9d767",
   "metadata": {},
   "outputs": [
    {
     "data": {
      "text/plain": [
       "array([0, 1, 2])"
      ]
     },
     "execution_count": 22,
     "metadata": {},
     "output_type": "execute_result"
    }
   ],
   "source": [
    "### model predict\n",
    "data = np.array([\n",
    "    [5.4, 4, 1.5, 0.2],\n",
    "    [6.2, 2.7, 5.1, 1.6],\n",
    "    [6.5, 3.1, 5.2, 2]\n",
    "])\n",
    "y_pred = tree_model.predict(data)\n",
    "y_pred"
   ]
  },
  {
   "cell_type": "code",
   "execution_count": null,
   "id": "cc128146-32c0-4458-9cca-e495231e2e9d",
   "metadata": {},
   "outputs": [],
   "source": []
  },
  {
   "cell_type": "code",
   "execution_count": 23,
   "id": "306500ca-bf00-4ba2-b6ae-9b58fbff56d5",
   "metadata": {},
   "outputs": [
    {
     "data": {
      "text/plain": [
       "{'fit_time': array([0.00398827, 0.00201106, 0.00200248]),\n",
       " 'score_time': array([0.00099492, 0.00099611, 0.00098705]),\n",
       " 'estimator': [DecisionTreeClassifier(random_state=42),\n",
       "  DecisionTreeClassifier(random_state=42),\n",
       "  DecisionTreeClassifier(random_state=42)],\n",
       " 'test_score': array([0.98, 0.94, 0.96])}"
      ]
     },
     "execution_count": 23,
     "metadata": {},
     "output_type": "execute_result"
    }
   ],
   "source": [
    "### Cross Validation\n",
    "from sklearn.model_selection import cross_validate\n",
    "\n",
    "# cv : 3개의 train test set fold 로 나누어 학습\n",
    "scores = cross_validate(tree_model, x, y, cv = 3, return_estimator = True)\n",
    "scores"
   ]
  },
  {
   "cell_type": "code",
   "execution_count": 25,
   "id": "ed452e9b-8926-4977-b71d-a90e7ab50836",
   "metadata": {},
   "outputs": [
    {
     "name": "stdout",
     "output_type": "stream",
     "text": [
      "[0 1 2]\n",
      "[0 2 2]\n",
      "[0 2 2]\n"
     ]
    }
   ],
   "source": [
    "for i in range(3):\n",
    "    print(scores['estimator'][i].predict(data))"
   ]
  },
  {
   "cell_type": "code",
   "execution_count": null,
   "id": "e89adad6-ee97-41b4-9399-bf3766729b26",
   "metadata": {},
   "outputs": [],
   "source": []
  },
  {
   "cell_type": "code",
   "execution_count": 26,
   "id": "a5e57f9a-3ff1-4603-baf9-a2287f72ad64",
   "metadata": {},
   "outputs": [],
   "source": [
    "### GridSearchCV\n",
    "from sklearn.model_selection import GridSearchCV\n"
   ]
  },
  {
   "cell_type": "code",
   "execution_count": 28,
   "id": "2bdb96b0-30e1-4577-89b2-f1967385bb52",
   "metadata": {},
   "outputs": [],
   "source": [
    "# parameter를 dictionary 형태로 설정\n",
    "parameters = {'max_depth' : [1, 2, 3], 'min_samples_split' : [2, 3]}\n",
    "\n",
    "# 하이퍼파라미터 & CV = 3\n",
    "grid_trees = GridSearchCV(tree_model, param_grid = parameters, cv = 3)\n"
   ]
  },
  {
   "cell_type": "code",
   "execution_count": 29,
   "id": "f3c9a4f7-c254-4a11-af21-37c656298b88",
   "metadata": {},
   "outputs": [
    {
     "data": {
      "text/plain": [
       "GridSearchCV(cv=3, estimator=DecisionTreeClassifier(random_state=42),\n",
       "             param_grid={'max_depth': [1, 2, 3], 'min_samples_split': [2, 3]})"
      ]
     },
     "execution_count": 29,
     "metadata": {},
     "output_type": "execute_result"
    }
   ],
   "source": [
    "# param_grid의 파라미터 순차적 학습\n",
    "grid_trees.fit(x_train, y_train)"
   ]
  },
  {
   "cell_type": "code",
   "execution_count": 32,
   "id": "310fb726-5469-4802-a10b-d5693e421715",
   "metadata": {},
   "outputs": [
    {
     "data": {
      "text/plain": [
       "{'mean_fit_time': array([0.00242639, 0.00198801, 0.00232522, 0.00200025, 0.00153875,\n",
       "        0.00168133]),\n",
       " 'std_fit_time': array([5.40955346e-04, 3.59125885e-06, 4.69572129e-04, 8.32507069e-04,\n",
       "        4.06840796e-04, 4.90650954e-04]),\n",
       " 'mean_score_time': array([0.00543642, 0.00130971, 0.0024035 , 0.00101193, 0.00100533,\n",
       "        0.00095328]),\n",
       " 'std_score_time': array([5.90092965e-03, 4.84242645e-04, 9.98782429e-04, 2.23693160e-05,\n",
       "        1.91095462e-05, 3.42468093e-05]),\n",
       " 'param_max_depth': masked_array(data=[1, 1, 2, 2, 3, 3],\n",
       "              mask=[False, False, False, False, False, False],\n",
       "        fill_value='?',\n",
       "             dtype=object),\n",
       " 'param_min_samples_split': masked_array(data=[2, 3, 2, 3, 2, 3],\n",
       "              mask=[False, False, False, False, False, False],\n",
       "        fill_value='?',\n",
       "             dtype=object),\n",
       " 'params': [{'max_depth': 1, 'min_samples_split': 2},\n",
       "  {'max_depth': 1, 'min_samples_split': 3},\n",
       "  {'max_depth': 2, 'min_samples_split': 2},\n",
       "  {'max_depth': 2, 'min_samples_split': 3},\n",
       "  {'max_depth': 3, 'min_samples_split': 2},\n",
       "  {'max_depth': 3, 'min_samples_split': 3}],\n",
       " 'split0_test_score': array([0.65789474, 0.65789474, 0.94736842, 0.94736842, 0.92105263,\n",
       "        0.92105263]),\n",
       " 'split1_test_score': array([0.64864865, 0.64864865, 0.91891892, 0.91891892, 0.91891892,\n",
       "        0.91891892]),\n",
       " 'split2_test_score': array([0.67567568, 0.67567568, 0.94594595, 0.94594595, 0.94594595,\n",
       "        0.94594595]),\n",
       " 'mean_test_score': array([0.66073969, 0.66073969, 0.9374111 , 0.9374111 , 0.92863917,\n",
       "        0.92863917]),\n",
       " 'std_test_score': array([0.01121562, 0.01121562, 0.01308883, 0.01308883, 0.0122687 ,\n",
       "        0.0122687 ]),\n",
       " 'rank_test_score': array([5, 5, 1, 1, 3, 3])}"
      ]
     },
     "execution_count": 32,
     "metadata": {},
     "output_type": "execute_result"
    }
   ],
   "source": [
    "grid_trees.cv_results_"
   ]
  },
  {
   "cell_type": "code",
   "execution_count": 34,
   "id": "17f6c34e-d874-4931-9426-5cff552a1d2d",
   "metadata": {},
   "outputs": [
    {
     "data": {
      "text/html": [
       "<div>\n",
       "<style scoped>\n",
       "    .dataframe tbody tr th:only-of-type {\n",
       "        vertical-align: middle;\n",
       "    }\n",
       "\n",
       "    .dataframe tbody tr th {\n",
       "        vertical-align: top;\n",
       "    }\n",
       "\n",
       "    .dataframe thead th {\n",
       "        text-align: right;\n",
       "    }\n",
       "</style>\n",
       "<table border=\"1\" class=\"dataframe\">\n",
       "  <thead>\n",
       "    <tr style=\"text-align: right;\">\n",
       "      <th></th>\n",
       "      <th>mean_fit_time</th>\n",
       "      <th>std_fit_time</th>\n",
       "      <th>mean_score_time</th>\n",
       "      <th>std_score_time</th>\n",
       "      <th>param_max_depth</th>\n",
       "      <th>param_min_samples_split</th>\n",
       "      <th>params</th>\n",
       "      <th>split0_test_score</th>\n",
       "      <th>split1_test_score</th>\n",
       "      <th>split2_test_score</th>\n",
       "      <th>mean_test_score</th>\n",
       "      <th>std_test_score</th>\n",
       "      <th>rank_test_score</th>\n",
       "    </tr>\n",
       "  </thead>\n",
       "  <tbody>\n",
       "    <tr>\n",
       "      <th>0</th>\n",
       "      <td>0.002426</td>\n",
       "      <td>0.000541</td>\n",
       "      <td>0.005436</td>\n",
       "      <td>0.005901</td>\n",
       "      <td>1</td>\n",
       "      <td>2</td>\n",
       "      <td>{'max_depth': 1, 'min_samples_split': 2}</td>\n",
       "      <td>0.657895</td>\n",
       "      <td>0.648649</td>\n",
       "      <td>0.675676</td>\n",
       "      <td>0.660740</td>\n",
       "      <td>0.011216</td>\n",
       "      <td>5</td>\n",
       "    </tr>\n",
       "    <tr>\n",
       "      <th>1</th>\n",
       "      <td>0.001988</td>\n",
       "      <td>0.000004</td>\n",
       "      <td>0.001310</td>\n",
       "      <td>0.000484</td>\n",
       "      <td>1</td>\n",
       "      <td>3</td>\n",
       "      <td>{'max_depth': 1, 'min_samples_split': 3}</td>\n",
       "      <td>0.657895</td>\n",
       "      <td>0.648649</td>\n",
       "      <td>0.675676</td>\n",
       "      <td>0.660740</td>\n",
       "      <td>0.011216</td>\n",
       "      <td>5</td>\n",
       "    </tr>\n",
       "    <tr>\n",
       "      <th>2</th>\n",
       "      <td>0.002325</td>\n",
       "      <td>0.000470</td>\n",
       "      <td>0.002403</td>\n",
       "      <td>0.000999</td>\n",
       "      <td>2</td>\n",
       "      <td>2</td>\n",
       "      <td>{'max_depth': 2, 'min_samples_split': 2}</td>\n",
       "      <td>0.947368</td>\n",
       "      <td>0.918919</td>\n",
       "      <td>0.945946</td>\n",
       "      <td>0.937411</td>\n",
       "      <td>0.013089</td>\n",
       "      <td>1</td>\n",
       "    </tr>\n",
       "    <tr>\n",
       "      <th>3</th>\n",
       "      <td>0.002000</td>\n",
       "      <td>0.000833</td>\n",
       "      <td>0.001012</td>\n",
       "      <td>0.000022</td>\n",
       "      <td>2</td>\n",
       "      <td>3</td>\n",
       "      <td>{'max_depth': 2, 'min_samples_split': 3}</td>\n",
       "      <td>0.947368</td>\n",
       "      <td>0.918919</td>\n",
       "      <td>0.945946</td>\n",
       "      <td>0.937411</td>\n",
       "      <td>0.013089</td>\n",
       "      <td>1</td>\n",
       "    </tr>\n",
       "    <tr>\n",
       "      <th>4</th>\n",
       "      <td>0.001539</td>\n",
       "      <td>0.000407</td>\n",
       "      <td>0.001005</td>\n",
       "      <td>0.000019</td>\n",
       "      <td>3</td>\n",
       "      <td>2</td>\n",
       "      <td>{'max_depth': 3, 'min_samples_split': 2}</td>\n",
       "      <td>0.921053</td>\n",
       "      <td>0.918919</td>\n",
       "      <td>0.945946</td>\n",
       "      <td>0.928639</td>\n",
       "      <td>0.012269</td>\n",
       "      <td>3</td>\n",
       "    </tr>\n",
       "    <tr>\n",
       "      <th>5</th>\n",
       "      <td>0.001681</td>\n",
       "      <td>0.000491</td>\n",
       "      <td>0.000953</td>\n",
       "      <td>0.000034</td>\n",
       "      <td>3</td>\n",
       "      <td>3</td>\n",
       "      <td>{'max_depth': 3, 'min_samples_split': 3}</td>\n",
       "      <td>0.921053</td>\n",
       "      <td>0.918919</td>\n",
       "      <td>0.945946</td>\n",
       "      <td>0.928639</td>\n",
       "      <td>0.012269</td>\n",
       "      <td>3</td>\n",
       "    </tr>\n",
       "  </tbody>\n",
       "</table>\n",
       "</div>"
      ],
      "text/plain": [
       "   mean_fit_time  std_fit_time  mean_score_time  std_score_time  \\\n",
       "0       0.002426      0.000541         0.005436        0.005901   \n",
       "1       0.001988      0.000004         0.001310        0.000484   \n",
       "2       0.002325      0.000470         0.002403        0.000999   \n",
       "3       0.002000      0.000833         0.001012        0.000022   \n",
       "4       0.001539      0.000407         0.001005        0.000019   \n",
       "5       0.001681      0.000491         0.000953        0.000034   \n",
       "\n",
       "  param_max_depth param_min_samples_split  \\\n",
       "0               1                       2   \n",
       "1               1                       3   \n",
       "2               2                       2   \n",
       "3               2                       3   \n",
       "4               3                       2   \n",
       "5               3                       3   \n",
       "\n",
       "                                     params  split0_test_score  \\\n",
       "0  {'max_depth': 1, 'min_samples_split': 2}           0.657895   \n",
       "1  {'max_depth': 1, 'min_samples_split': 3}           0.657895   \n",
       "2  {'max_depth': 2, 'min_samples_split': 2}           0.947368   \n",
       "3  {'max_depth': 2, 'min_samples_split': 3}           0.947368   \n",
       "4  {'max_depth': 3, 'min_samples_split': 2}           0.921053   \n",
       "5  {'max_depth': 3, 'min_samples_split': 3}           0.921053   \n",
       "\n",
       "   split1_test_score  split2_test_score  mean_test_score  std_test_score  \\\n",
       "0           0.648649           0.675676         0.660740        0.011216   \n",
       "1           0.648649           0.675676         0.660740        0.011216   \n",
       "2           0.918919           0.945946         0.937411        0.013089   \n",
       "3           0.918919           0.945946         0.937411        0.013089   \n",
       "4           0.918919           0.945946         0.928639        0.012269   \n",
       "5           0.918919           0.945946         0.928639        0.012269   \n",
       "\n",
       "   rank_test_score  \n",
       "0                5  \n",
       "1                5  \n",
       "2                1  \n",
       "3                1  \n",
       "4                3  \n",
       "5                3  "
      ]
     },
     "execution_count": 34,
     "metadata": {},
     "output_type": "execute_result"
    }
   ],
   "source": [
    "# GridSearchCV 결과 DataFrame 변환\n",
    "scores_df = pd.DataFrame(grid_trees.cv_results_)\n",
    "scores_df"
   ]
  },
  {
   "cell_type": "code",
   "execution_count": 37,
   "id": "884b1a66-9a51-445b-9afa-64a0690e6d38",
   "metadata": {},
   "outputs": [
    {
     "name": "stdout",
     "output_type": "stream",
     "text": [
      "최적파라미터 :  {'max_depth': 2, 'min_samples_split': 2}\n",
      "최고 정확도 : 0.9374\n"
     ]
    },
    {
     "data": {
      "text/plain": [
       "0.9210526315789473"
      ]
     },
     "execution_count": 37,
     "metadata": {},
     "output_type": "execute_result"
    }
   ],
   "source": [
    "print('최적파라미터 : ', grid_trees.best_params_)\n",
    "print('최고 정확도 : {0:.4f}'.format(grid_trees.best_score_))\n",
    "\n",
    "# 최고 성능의 분류기\n",
    "score = grid_trees.best_estimator_.score(x_test, y_test)\n",
    "score"
   ]
  },
  {
   "cell_type": "code",
   "execution_count": null,
   "id": "3f2273a4-a4e3-44bb-a9fa-edbaeb8d4397",
   "metadata": {},
   "outputs": [],
   "source": []
  },
  {
   "cell_type": "code",
   "execution_count": null,
   "id": "9238c67c-44cb-4499-9111-29ee19fe5757",
   "metadata": {},
   "outputs": [],
   "source": []
  },
  {
   "cell_type": "code",
   "execution_count": 39,
   "id": "01c50b53-0088-4288-8fd5-928cc24808f3",
   "metadata": {},
   "outputs": [
    {
     "data": {
      "text/plain": [
       "KNeighborsClassifier()"
      ]
     },
     "execution_count": 39,
     "metadata": {},
     "output_type": "execute_result"
    }
   ],
   "source": [
    "##### KNN\n",
    "from sklearn.neighbors import KNeighborsClassifier\n",
    "\n",
    "neighbor_model = KNeighborsClassifier(n_neighbors = 5)\n",
    "neighbor_model.fit(x_train, y_train)"
   ]
  },
  {
   "cell_type": "code",
   "execution_count": null,
   "id": "01baa2c2-aaa2-491b-b8c7-b88cb7dad48e",
   "metadata": {},
   "outputs": [],
   "source": []
  },
  {
   "cell_type": "code",
   "execution_count": null,
   "id": "7c3c40a0-c4ef-439a-8537-c774b40b22ef",
   "metadata": {},
   "outputs": [],
   "source": []
  },
  {
   "cell_type": "code",
   "execution_count": 40,
   "id": "521d2fad-2b01-433a-ba70-044b8641e7da",
   "metadata": {},
   "outputs": [
    {
     "data": {
      "text/plain": [
       "SVC(random_state=42)"
      ]
     },
     "execution_count": 40,
     "metadata": {},
     "output_type": "execute_result"
    }
   ],
   "source": [
    "##### SVM\n",
    "from sklearn.svm import SVC\n",
    "\n",
    "svm_model = SVC(random_state = 42)\n",
    "svm_model.fit(x_train, y_train)"
   ]
  },
  {
   "cell_type": "code",
   "execution_count": null,
   "id": "8654a106-fc4e-492b-b993-675ea6a4016c",
   "metadata": {},
   "outputs": [],
   "source": []
  },
  {
   "cell_type": "code",
   "execution_count": null,
   "id": "046b8fde-52bf-4338-a308-ebc505e50ec8",
   "metadata": {},
   "outputs": [],
   "source": []
  },
  {
   "cell_type": "code",
   "execution_count": 41,
   "id": "650c16c7-7382-43a3-8daf-dcd3f0955357",
   "metadata": {},
   "outputs": [
    {
     "data": {
      "text/plain": [
       "RandomForestClassifier(random_state=42)"
      ]
     },
     "execution_count": 41,
     "metadata": {},
     "output_type": "execute_result"
    }
   ],
   "source": [
    "##### RandomForest\n",
    "from sklearn.ensemble import RandomForestClassifier\n",
    "\n",
    "forest_model = RandomForestClassifier(n_estimators = 100, random_state = 42)\n",
    "forest_model.fit(x_train, y_train)"
   ]
  },
  {
   "cell_type": "code",
   "execution_count": null,
   "id": "30011b6b-80b2-4ec9-b1d1-06fe898d2dd5",
   "metadata": {},
   "outputs": [],
   "source": []
  },
  {
   "cell_type": "code",
   "execution_count": 42,
   "id": "ba8b19d9-a41a-45c9-8b10-269c558da8f1",
   "metadata": {},
   "outputs": [
    {
     "name": "stdout",
     "output_type": "stream",
     "text": [
      "DecisionTreeClassifier 정확도 : 0.8947\n",
      "KNeighborsClassifier 정확도 : 0.9737\n",
      "SVC 정확도 : 0.9211\n",
      "RandomForestClassifier 정확도 : 0.9211\n"
     ]
    }
   ],
   "source": [
    "# model check\n",
    "model_list = [tree_model, neighbor_model, svm_model, forest_model]\n",
    "\n",
    "for model in model_list:\n",
    "    score = model.score(x_test, y_test)\n",
    "    model_name = model.__class__.__name__\n",
    "    print('{0} 정확도 : {1:.4f}'.format(model_name, score))"
   ]
  },
  {
   "cell_type": "code",
   "execution_count": null,
   "id": "b9c74a94-815f-4ee7-bf65-92bd22d7917e",
   "metadata": {},
   "outputs": [],
   "source": []
  },
  {
   "cell_type": "code",
   "execution_count": null,
   "id": "eb5b2b75-bacf-429f-9995-78315bd73e10",
   "metadata": {},
   "outputs": [],
   "source": []
  },
  {
   "cell_type": "code",
   "execution_count": null,
   "id": "dc29e628-3b26-45e4-9119-763cb547923b",
   "metadata": {},
   "outputs": [],
   "source": [
    "!pip install xgboost"
   ]
  },
  {
   "cell_type": "code",
   "execution_count": 47,
   "id": "ccdb97f8-6ab7-4013-a69e-bdb579cecb0f",
   "metadata": {},
   "outputs": [
    {
     "name": "stdout",
     "output_type": "stream",
     "text": [
      "Collecting lightgbm\n",
      "  Downloading lightgbm-3.2.1-py3-none-win_amd64.whl (1.0 MB)\n",
      "Requirement already satisfied: scikit-learn!=0.22.0 in d:\\anaconda\\lib\\site-packages (from lightgbm) (0.24.1)\n",
      "Requirement already satisfied: wheel in d:\\anaconda\\lib\\site-packages (from lightgbm) (0.36.2)\n",
      "Requirement already satisfied: numpy in d:\\anaconda\\lib\\site-packages (from lightgbm) (1.20.1)\n",
      "Requirement already satisfied: scipy in d:\\anaconda\\lib\\site-packages (from lightgbm) (1.6.2)\n",
      "Requirement already satisfied: threadpoolctl>=2.0.0 in d:\\anaconda\\lib\\site-packages (from scikit-learn!=0.22.0->lightgbm) (2.1.0)\n",
      "Requirement already satisfied: joblib>=0.11 in d:\\anaconda\\lib\\site-packages (from scikit-learn!=0.22.0->lightgbm) (1.0.1)\n",
      "Installing collected packages: lightgbm\n",
      "Successfully installed lightgbm-3.2.1\n"
     ]
    }
   ],
   "source": [
    "!pip install lightgbm"
   ]
  },
  {
   "cell_type": "code",
   "execution_count": 50,
   "id": "47a27f64-47f1-4a4d-8df1-cb4664672d3f",
   "metadata": {},
   "outputs": [],
   "source": [
    "##### Ensemble (GradientBoosting)\n",
    "\n",
    "from sklearn.ensemble import GradientBoostingClassifier\n",
    "from xgboost import XGBClassifier\n",
    "from lightgbm import LGBMClassifier\n",
    "\n",
    "gbm_model = GradientBoostingClassifier(random_state = 10)\n",
    "xgb_model = XGBClassifier(n_estimators = 300, learning_rate = 0.1, max_depth = 3)\n",
    "lgb_model = LGBMClassifier(n_estimators = 300)"
   ]
  },
  {
   "cell_type": "code",
   "execution_count": 59,
   "id": "00624870-e429-4bf5-971c-5aabbc078f89",
   "metadata": {},
   "outputs": [
    {
     "name": "stdout",
     "output_type": "stream",
     "text": [
      "DecisionTreeClassifier 정확도 : 0.8947\n",
      "KNeighborsClassifier 정확도 : 0.9737\n",
      "SVC 정확도 : 0.9211\n",
      "RandomForestClassifier 정확도 : 0.9211\n",
      "GradientBoostingClassifier 정확도 : 0.9737\n",
      "[14:10:26] WARNING: C:/Users/Administrator/workspace/xgboost-win64_release_1.4.0/src/learner.cc:1095: Starting in XGBoost 1.3.0, the default evaluation metric used with the objective 'multi:softprob' was changed from 'merror' to 'mlogloss'. Explicitly set eval_metric if you'd like to restore the old behavior.\n",
      "XGBClassifier 정확도 : 0.9211\n",
      "LGBMClassifier 정확도 : 0.8421\n"
     ]
    },
    {
     "name": "stderr",
     "output_type": "stream",
     "text": [
      "D:\\anaconda\\lib\\site-packages\\xgboost\\sklearn.py:1146: UserWarning: The use of label encoder in XGBClassifier is deprecated and will be removed in a future release. To remove this warning, do the following: 1) Pass option use_label_encoder=False when constructing XGBClassifier object; and 2) Encode your labels (y) as integers starting with 0, i.e. 0, 1, 2, ..., [num_class - 1].\n",
      "  warnings.warn(label_encoder_deprecation_msg, UserWarning)\n"
     ]
    }
   ],
   "source": [
    "model_list = [tree_model, neighbor_model, svm_model, forest_model, gbm_model, xgb_model, lgb_model]\n",
    "\n",
    "for model in model_list:\n",
    "    model.fit(x_train, y_train)\n",
    "    score = model.score(x_test, y_test)\n",
    "    model_name = model.__class__.__name__\n",
    "    print('{0} 정확도 : {1:.4f}'.format(model_name, score))"
   ]
  },
  {
   "cell_type": "code",
   "execution_count": 57,
   "id": "65e4fffb-0740-410f-b840-63948bcc98ce",
   "metadata": {},
   "outputs": [
    {
     "name": "stdout",
     "output_type": "stream",
     "text": [
      "VotingClassifier 정확도 : 0.9474\n"
     ]
    }
   ],
   "source": [
    "# VotingClassifier\n",
    "from sklearn.ensemble import VotingClassifier\n",
    "\n",
    "voting_model = VotingClassifier(estimators = [('RF', forest_model), ('KNN', neighbor_model)], voting = 'soft')\n",
    "voting_model.fit(x_train, y_train)\n",
    "score = voting_model.score(x_test, y_test)\n",
    "print('VotingClassifier 정확도 : {0:.4f}'.format(score))"
   ]
  },
  {
   "cell_type": "code",
   "execution_count": null,
   "id": "d86e48f1-218c-4762-b53d-60069dcf278f",
   "metadata": {},
   "outputs": [],
   "source": []
  }
 ],
 "metadata": {
  "kernelspec": {
   "display_name": "Python 3",
   "language": "python",
   "name": "python3"
  },
  "language_info": {
   "codemirror_mode": {
    "name": "ipython",
    "version": 3
   },
   "file_extension": ".py",
   "mimetype": "text/x-python",
   "name": "python",
   "nbconvert_exporter": "python",
   "pygments_lexer": "ipython3",
   "version": "3.8.8"
  }
 },
 "nbformat": 4,
 "nbformat_minor": 5
}
